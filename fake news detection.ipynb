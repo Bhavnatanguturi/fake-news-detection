{
 "cells": [
  {
   "cell_type": "code",
   "execution_count": 81,
   "metadata": {},
   "outputs": [],
   "source": [
    "import pandas as pd\n",
    "import re\n",
    "import numpy as np\n",
    "import seaborn as sns\n",
    "from nltk.corpus import stopwords\n",
    "from nltk.stem import PorterStemmer\n",
    "from sklearn import svm"
   ]
  },
  {
   "cell_type": "code",
   "execution_count": 82,
   "metadata": {},
   "outputs": [],
   "source": [
    "from sklearn import svm\n",
    "from sklearn import metrics\n",
    "from sklearn.feature_extraction.text import CountVectorizer,TfidfVectorizer\n",
    "from sklearn.metrics import classification_report\n",
    "from sklearn.model_selection import train_test_split\n",
    "from sklearn.naive_bayes import MultinomialNB\n",
    "from sklearn.ensemble import ExtraTreesClassifier\n",
    "from sklearn.linear_model import PassiveAggressiveClassifier"
   ]
  },
  {
   "cell_type": "code",
   "execution_count": 83,
   "metadata": {},
   "outputs": [],
   "source": [
    "from sklearn.metrics import accuracy_score, f1_score, precision_score, recall_score, classification_report\n",
    "from sklearn.metrics import classification_report\n",
    "from sklearn.metrics import precision_recall_fscore_support\n",
    "from sklearn.linear_model import LinearRegression\n",
    "from sklearn.linear_model import LogisticRegression\n",
    "from sklearn.metrics import accuracy_score, confusion_matrix\n"
   ]
  },
  {
   "cell_type": "code",
   "execution_count": 84,
   "metadata": {},
   "outputs": [],
   "source": [
    "df = pd.read_csv('fake news data.csv')"
   ]
  },
  {
   "cell_type": "code",
   "execution_count": 85,
   "metadata": {},
   "outputs": [
    {
     "data": {
      "text/html": [
       "<div>\n",
       "<style scoped>\n",
       "    .dataframe tbody tr th:only-of-type {\n",
       "        vertical-align: middle;\n",
       "    }\n",
       "\n",
       "    .dataframe tbody tr th {\n",
       "        vertical-align: top;\n",
       "    }\n",
       "\n",
       "    .dataframe thead th {\n",
       "        text-align: right;\n",
       "    }\n",
       "</style>\n",
       "<table border=\"1\" class=\"dataframe\">\n",
       "  <thead>\n",
       "    <tr style=\"text-align: right;\">\n",
       "      <th></th>\n",
       "      <th>URLs</th>\n",
       "      <th>Headline</th>\n",
       "      <th>Body</th>\n",
       "      <th>Label</th>\n",
       "    </tr>\n",
       "  </thead>\n",
       "  <tbody>\n",
       "    <tr>\n",
       "      <th>715</th>\n",
       "      <td>https://www.nytimes.com/2017/10/07/us/politics...</td>\n",
       "      <td>The ‘Resistance,’ Raising Big Money, Upends Li...</td>\n",
       "      <td>Mr. James’s committee is among more than three...</td>\n",
       "      <td>1</td>\n",
       "    </tr>\n",
       "    <tr>\n",
       "      <th>3546</th>\n",
       "      <td>https://www.reuters.com/article/us-blackberry-...</td>\n",
       "      <td>BlackBerry details patent deal with Android ma...</td>\n",
       "      <td>FILE PHOTO: A man holds the new BlackBerry Key...</td>\n",
       "      <td>1</td>\n",
       "    </tr>\n",
       "    <tr>\n",
       "      <th>412</th>\n",
       "      <td>http://beforeitsnews.com/sports/2017/09/930-ex...</td>\n",
       "      <td>9/30 Expo Park-Forbes Field Era: Temple Cup, '...</td>\n",
       "      <td>Red Flag Warning: These California Wildfires A...</td>\n",
       "      <td>0</td>\n",
       "    </tr>\n",
       "    <tr>\n",
       "      <th>2876</th>\n",
       "      <td>http://beforeitsnews.com/u-s-politics/2017/10/...</td>\n",
       "      <td>Ryan Gosling, Guy On A Boat Give Dating Advice...</td>\n",
       "      <td>Red Flag Warning: These California Wildfires A...</td>\n",
       "      <td>0</td>\n",
       "    </tr>\n",
       "    <tr>\n",
       "      <th>3376</th>\n",
       "      <td>http://beforeitsnews.com/u-s-politics/2017/09/...</td>\n",
       "      <td>“Racist Propaganda”: Librarian Rejects Books D...</td>\n",
       "      <td>A Potato Battery Can Light up a Room for Over ...</td>\n",
       "      <td>0</td>\n",
       "    </tr>\n",
       "    <tr>\n",
       "      <th>3678</th>\n",
       "      <td>https://www.activistpost.com/2017/09/dhs-steps...</td>\n",
       "      <td>DHS Steps In, Blocks US Entry For Indian Pasto...</td>\n",
       "      <td>By Janet Phelan\\nOn the surface, the plan was ...</td>\n",
       "      <td>0</td>\n",
       "    </tr>\n",
       "    <tr>\n",
       "      <th>3100</th>\n",
       "      <td>https://www.nytimes.com/2017/10/07/world/afric...</td>\n",
       "      <td>Gas Station Explosion in Ghana Kills at Least ...</td>\n",
       "      <td>Photo\\nLAGOS, Nigeria — An explosion at a gas ...</td>\n",
       "      <td>1</td>\n",
       "    </tr>\n",
       "    <tr>\n",
       "      <th>2929</th>\n",
       "      <td>http://beforeitsnews.com/u-s-politics/2017/10/...</td>\n",
       "      <td>Avid Hunter Don Jr. On Gun Silencers: ‘It's Ju...</td>\n",
       "      <td>A Potato Battery Can Light up a Room for Over ...</td>\n",
       "      <td>0</td>\n",
       "    </tr>\n",
       "    <tr>\n",
       "      <th>2321</th>\n",
       "      <td>http://beforeitsnews.com/u-s-politics/2017/10/...</td>\n",
       "      <td>MLB Post Season Sunday: Who’s Playing and Wher...</td>\n",
       "      <td>MLB Post Season Sunday: Who’s Playing and Wher...</td>\n",
       "      <td>0</td>\n",
       "    </tr>\n",
       "    <tr>\n",
       "      <th>443</th>\n",
       "      <td>https://www.activistpost.com/2017/09/can-survi...</td>\n",
       "      <td>Can We Survive Technology? The Origin of SRM G...</td>\n",
       "      <td>By Peter A. Kirby\\nIn the course of exposing c...</td>\n",
       "      <td>0</td>\n",
       "    </tr>\n",
       "  </tbody>\n",
       "</table>\n",
       "</div>"
      ],
      "text/plain": [
       "                                                   URLs  \\\n",
       "715   https://www.nytimes.com/2017/10/07/us/politics...   \n",
       "3546  https://www.reuters.com/article/us-blackberry-...   \n",
       "412   http://beforeitsnews.com/sports/2017/09/930-ex...   \n",
       "2876  http://beforeitsnews.com/u-s-politics/2017/10/...   \n",
       "3376  http://beforeitsnews.com/u-s-politics/2017/09/...   \n",
       "3678  https://www.activistpost.com/2017/09/dhs-steps...   \n",
       "3100  https://www.nytimes.com/2017/10/07/world/afric...   \n",
       "2929  http://beforeitsnews.com/u-s-politics/2017/10/...   \n",
       "2321  http://beforeitsnews.com/u-s-politics/2017/10/...   \n",
       "443   https://www.activistpost.com/2017/09/can-survi...   \n",
       "\n",
       "                                               Headline  \\\n",
       "715   The ‘Resistance,’ Raising Big Money, Upends Li...   \n",
       "3546  BlackBerry details patent deal with Android ma...   \n",
       "412   9/30 Expo Park-Forbes Field Era: Temple Cup, '...   \n",
       "2876  Ryan Gosling, Guy On A Boat Give Dating Advice...   \n",
       "3376  “Racist Propaganda”: Librarian Rejects Books D...   \n",
       "3678  DHS Steps In, Blocks US Entry For Indian Pasto...   \n",
       "3100  Gas Station Explosion in Ghana Kills at Least ...   \n",
       "2929  Avid Hunter Don Jr. On Gun Silencers: ‘It's Ju...   \n",
       "2321  MLB Post Season Sunday: Who’s Playing and Wher...   \n",
       "443   Can We Survive Technology? The Origin of SRM G...   \n",
       "\n",
       "                                                   Body  Label  \n",
       "715   Mr. James’s committee is among more than three...      1  \n",
       "3546  FILE PHOTO: A man holds the new BlackBerry Key...      1  \n",
       "412   Red Flag Warning: These California Wildfires A...      0  \n",
       "2876  Red Flag Warning: These California Wildfires A...      0  \n",
       "3376  A Potato Battery Can Light up a Room for Over ...      0  \n",
       "3678  By Janet Phelan\\nOn the surface, the plan was ...      0  \n",
       "3100  Photo\\nLAGOS, Nigeria — An explosion at a gas ...      1  \n",
       "2929  A Potato Battery Can Light up a Room for Over ...      0  \n",
       "2321  MLB Post Season Sunday: Who’s Playing and Wher...      0  \n",
       "443   By Peter A. Kirby\\nIn the course of exposing c...      0  "
      ]
     },
     "execution_count": 85,
     "metadata": {},
     "output_type": "execute_result"
    }
   ],
   "source": [
    "df.sample(10)"
   ]
  },
  {
   "cell_type": "code",
   "execution_count": 86,
   "metadata": {},
   "outputs": [
    {
     "data": {
      "text/plain": [
       "(4009, 4)"
      ]
     },
     "execution_count": 86,
     "metadata": {},
     "output_type": "execute_result"
    }
   ],
   "source": [
    "df.shape"
   ]
  },
  {
   "cell_type": "code",
   "execution_count": 87,
   "metadata": {},
   "outputs": [
    {
     "data": {
      "text/html": [
       "<div>\n",
       "<style scoped>\n",
       "    .dataframe tbody tr th:only-of-type {\n",
       "        vertical-align: middle;\n",
       "    }\n",
       "\n",
       "    .dataframe tbody tr th {\n",
       "        vertical-align: top;\n",
       "    }\n",
       "\n",
       "    .dataframe thead th {\n",
       "        text-align: right;\n",
       "    }\n",
       "</style>\n",
       "<table border=\"1\" class=\"dataframe\">\n",
       "  <thead>\n",
       "    <tr style=\"text-align: right;\">\n",
       "      <th></th>\n",
       "      <th>Label</th>\n",
       "    </tr>\n",
       "  </thead>\n",
       "  <tbody>\n",
       "    <tr>\n",
       "      <th>count</th>\n",
       "      <td>4009.000000</td>\n",
       "    </tr>\n",
       "    <tr>\n",
       "      <th>mean</th>\n",
       "      <td>0.466949</td>\n",
       "    </tr>\n",
       "    <tr>\n",
       "      <th>std</th>\n",
       "      <td>0.498969</td>\n",
       "    </tr>\n",
       "    <tr>\n",
       "      <th>min</th>\n",
       "      <td>0.000000</td>\n",
       "    </tr>\n",
       "    <tr>\n",
       "      <th>25%</th>\n",
       "      <td>0.000000</td>\n",
       "    </tr>\n",
       "    <tr>\n",
       "      <th>50%</th>\n",
       "      <td>0.000000</td>\n",
       "    </tr>\n",
       "    <tr>\n",
       "      <th>75%</th>\n",
       "      <td>1.000000</td>\n",
       "    </tr>\n",
       "    <tr>\n",
       "      <th>max</th>\n",
       "      <td>1.000000</td>\n",
       "    </tr>\n",
       "  </tbody>\n",
       "</table>\n",
       "</div>"
      ],
      "text/plain": [
       "             Label\n",
       "count  4009.000000\n",
       "mean      0.466949\n",
       "std       0.498969\n",
       "min       0.000000\n",
       "25%       0.000000\n",
       "50%       0.000000\n",
       "75%       1.000000\n",
       "max       1.000000"
      ]
     },
     "execution_count": 87,
     "metadata": {},
     "output_type": "execute_result"
    }
   ],
   "source": [
    "df.describe()"
   ]
  },
  {
   "cell_type": "code",
   "execution_count": 88,
   "metadata": {},
   "outputs": [
    {
     "name": "stdout",
     "output_type": "stream",
     "text": [
      "<class 'pandas.core.frame.DataFrame'>\n",
      "RangeIndex: 4009 entries, 0 to 4008\n",
      "Data columns (total 4 columns):\n",
      "URLs        4009 non-null object\n",
      "Headline    4009 non-null object\n",
      "Body        3988 non-null object\n",
      "Label       4009 non-null int64\n",
      "dtypes: int64(1), object(3)\n",
      "memory usage: 125.4+ KB\n"
     ]
    }
   ],
   "source": [
    "df.info()"
   ]
  },
  {
   "cell_type": "code",
   "execution_count": 89,
   "metadata": {},
   "outputs": [
    {
     "data": {
      "text/html": [
       "<div>\n",
       "<style scoped>\n",
       "    .dataframe tbody tr th:only-of-type {\n",
       "        vertical-align: middle;\n",
       "    }\n",
       "\n",
       "    .dataframe tbody tr th {\n",
       "        vertical-align: top;\n",
       "    }\n",
       "\n",
       "    .dataframe thead th {\n",
       "        text-align: right;\n",
       "    }\n",
       "</style>\n",
       "<table border=\"1\" class=\"dataframe\">\n",
       "  <thead>\n",
       "    <tr style=\"text-align: right;\">\n",
       "      <th></th>\n",
       "      <th>URLs</th>\n",
       "      <th>Headline</th>\n",
       "      <th>Body</th>\n",
       "    </tr>\n",
       "  </thead>\n",
       "  <tbody>\n",
       "    <tr>\n",
       "      <th>count</th>\n",
       "      <td>4009</td>\n",
       "      <td>4009</td>\n",
       "      <td>3988</td>\n",
       "    </tr>\n",
       "    <tr>\n",
       "      <th>unique</th>\n",
       "      <td>3352</td>\n",
       "      <td>2831</td>\n",
       "      <td>2863</td>\n",
       "    </tr>\n",
       "    <tr>\n",
       "      <th>top</th>\n",
       "      <td>http://beforeitsnews.com/u-s-politics/2017/10/...</td>\n",
       "      <td>2017 Fantasy Football Kicker Rankings - Week 5</td>\n",
       "      <td>A Potato Battery Can Light up a Room for Over ...</td>\n",
       "    </tr>\n",
       "    <tr>\n",
       "      <th>freq</th>\n",
       "      <td>5</td>\n",
       "      <td>6</td>\n",
       "      <td>143</td>\n",
       "    </tr>\n",
       "  </tbody>\n",
       "</table>\n",
       "</div>"
      ],
      "text/plain": [
       "                                                     URLs  \\\n",
       "count                                                4009   \n",
       "unique                                               3352   \n",
       "top     http://beforeitsnews.com/u-s-politics/2017/10/...   \n",
       "freq                                                    5   \n",
       "\n",
       "                                              Headline  \\\n",
       "count                                             4009   \n",
       "unique                                            2831   \n",
       "top     2017 Fantasy Football Kicker Rankings - Week 5   \n",
       "freq                                                 6   \n",
       "\n",
       "                                                     Body  \n",
       "count                                                3988  \n",
       "unique                                               2863  \n",
       "top     A Potato Battery Can Light up a Room for Over ...  \n",
       "freq                                                  143  "
      ]
     },
     "execution_count": 89,
     "metadata": {},
     "output_type": "execute_result"
    }
   ],
   "source": [
    "df.describe(include=['O'])"
   ]
  },
  {
   "cell_type": "code",
   "execution_count": 90,
   "metadata": {},
   "outputs": [
    {
     "data": {
      "text/plain": [
       "Index(['URLs', 'Headline', 'Body', 'Label'], dtype='object')"
      ]
     },
     "execution_count": 90,
     "metadata": {},
     "output_type": "execute_result"
    }
   ],
   "source": [
    "df.columns"
   ]
  },
  {
   "cell_type": "code",
   "execution_count": 91,
   "metadata": {},
   "outputs": [
    {
     "data": {
      "text/plain": [
       "<matplotlib.axes._subplots.AxesSubplot at 0x1a8138c4160>"
      ]
     },
     "execution_count": 91,
     "metadata": {},
     "output_type": "execute_result"
    },
    {
     "data": {
      "image/png": "[encoded data removed]",
      "text/plain": [
       "<Figure size 432x288 with 1 Axes>"
      ]
     },
     "metadata": {},
     "output_type": "display_data"
    }
   ],
   "source": [
    "df['Label'].value_counts().plot(kind = \"barh\")"
   ]
  },
  {
   "cell_type": "code",
   "execution_count": 92,
   "metadata": {},
   "outputs": [
    {
     "name": "stderr",
     "output_type": "stream",
     "text": [
      "C:\\Users\\bhava\\Anaconda3\\lib\\site-packages\\matplotlib\\axes\\_axes.py:6462: UserWarning: The 'normed' kwarg is deprecated, and has been replaced by the 'density' kwarg.\n",
      "  warnings.warn(\"The 'normed' kwarg is deprecated, and has been \"\n"
     ]
    },
    {
     "data": {
      "text/plain": [
       "<matplotlib.axes._subplots.AxesSubplot at 0x1a81122a0f0>"
      ]
     },
     "execution_count": 92,
     "metadata": {},
     "output_type": "execute_result"
    },
    {
     "data": {
      "image/png": "[encoded data removed]",
      "text/plain": [
       "<Figure size 432x288 with 1 Axes>"
      ]
     },
     "metadata": {},
     "output_type": "display_data"
    }
   ],
   "source": [
    "sns.distplot(df['Label'])"
   ]
  },
  {
   "cell_type": "code",
   "execution_count": 93,
   "metadata": {},
   "outputs": [
    {
     "data": {
      "text/plain": [
       "URLs         0\n",
       "Headline     0\n",
       "Body        21\n",
       "Label        0\n",
       "dtype: int64"
      ]
     },
     "execution_count": 93,
     "metadata": {},
     "output_type": "execute_result"
    }
   ],
   "source": [
    " df.isnull().sum()"
   ]
  },
  {
   "cell_type": "code",
   "execution_count": 94,
   "metadata": {},
   "outputs": [],
   "source": [
    "X = df.drop('URLs', axis=1)\n",
    "y = df['URLs']"
   ]
  },
  {
   "cell_type": "code",
   "execution_count": 95,
   "metadata": {},
   "outputs": [],
   "source": [
    "X = df['Headline']\n",
    "y = df['Label']"
   ]
  },
  {
   "cell_type": "code",
   "execution_count": 96,
   "metadata": {},
   "outputs": [
    {
     "data": {
      "text/plain": [
       "0              Four ways Bob Corker skewered Donald Trump\n",
       "1       Linklater's war veteran comedy speaks to moder...\n",
       "2       Trump’s Fight With Corker Jeopardizes His Legi...\n",
       "3       Egypt's Cheiron wins tie-up with Pemex for Mex...\n",
       "4             Jason Aldean opens 'SNL' with Vegas tribute\n",
       "5                        JetNation FanDuel League; Week 4\n",
       "6       Kansas Tried a Tax Plan Similar to Trump’s. It...\n",
       "7       India RBI chief: growth important, but not at ...\n",
       "8       EPA chief to sign rule on Clean Power Plan exi...\n",
       "9       Talks on sale of Air Berlin planes to easyJet ...\n",
       "10      U.S. President Donald Trump Quietly Signs Law ...\n",
       "11      2017 Fantasy Football Team Defense Rankings - ...\n",
       "12               Just Shut Up & Play Some Damn Baseball!!\n",
       "13      Deloitte cyber attack affected up to 350 clien...\n",
       "14      10/7: Chuck Axed; HBD Brickyard, Adam, Moonlig...\n",
       "15      Gunman’s Girlfriend Said She Didn’t Know He Pl...\n",
       "16      Marilou Danley, Gunman’s Girlfriend, Says She ...\n",
       "17      Trump’s Immigration Rhetoric Echoes a Bitter F...\n",
       "18      Trump Bemoans ‘Little Appreciation’ As San Jua...\n",
       "19      In Meeting With Military, Trump Talks Of 'Calm...\n",
       "20      Teacher Sparks Outrage By Asking Kids To Make ...\n",
       "21      9/28 Through the 40s: The Gloaming; HBD Bill, ...\n",
       "22      Weinstein Co board ousts Harvey Weinstein afte...\n",
       "23      Hillary Clinton Suggests That Trump May Order ...\n",
       "24      9/29 Through the 40s: HBD Cannonball & Paul, C...\n",
       "25           Sharapova storms into Tianjin quarter-finals\n",
       "26      10/3 Expo Park-Forbes Field Era: Pirates, Gray...\n",
       "27             Weinstein scandal no surprise to Hollywood\n",
       "28                   Blackhawks Roster Breakdown: Goalies\n",
       "29      With Christian Pulisic Driving, United States ...\n",
       "                              ...                        \n",
       "3979    10/3 TRS-PNC Park Era: Bucs Win a Couple, Lose...\n",
       "3980    Andy Murray & Serena Williams 'will be back' a...\n",
       "3981           Trump pushes for ‘no kneeling’ rule in NFL\n",
       "3982    10/9: HBD Bob Moose,Cricket, Starling & Six Mo...\n",
       "3983    Illuminati Card Game Predicted Vegas Massacre;...\n",
       "3984    Top 100 European Innovative Universities Compa...\n",
       "3985    Glencore pips Sinopec to buy Chevron's South A...\n",
       "3986    Spain Catalan crisis: Puigdemont addresses reg...\n",
       "3987    Services announced for Solomon Caesar, gospel ...\n",
       "3988    Italian woman granted sick pay to look after i...\n",
       "3989    Margo Price, Nashville Outsider, Tells It Like...\n",
       "3990    Saturday: Two To Go - Jamo v Max Scherzer, Lin...\n",
       "3991                            Matchup: Bulls v Mud Hens\n",
       "3992    Iraq War Vet Gave Exact Location of Vegas Shoo...\n",
       "3993    10/2 Happenings: HBD Ernie,Honest Eddie, Rex, ...\n",
       "3994    Smart Meters Create A “Honeypot” Of Personal I...\n",
       "3995    Harvey Weinstein scandal: What next for Hollyw...\n",
       "3996                                   The Spy in the IRA\n",
       "3997    Trump Takes Bold Action to Save U.S. From Euro...\n",
       "3998    9/28 Through the 40s: The Gloaming; HBD Bill, ...\n",
       "3999      Red Sox fire manager Farrell after five seasons\n",
       "4000    35 False Matches and 1 Erroneous Arrest As Pol...\n",
       "4001    Hervé Leroux, Creator of the Hervé Léger Banda...\n",
       "4002       The price tag for Pence's trip to Indianapolis\n",
       "4003    CNN and Globalist Exposed - Steve Quayle and A...\n",
       "4004                                      Trends to Watch\n",
       "4005    Trump Jr. Is Soon To Give A 30-Minute Speech F...\n",
       "4006          Ron Paul on Trump, Anarchism & the AltRight\n",
       "4007    China to accept overseas trial data in bid to ...\n",
       "4008    Vice President Mike Pence Leaves NFL Game Beca...\n",
       "Name: Headline, Length: 4009, dtype: object"
      ]
     },
     "execution_count": 96,
     "metadata": {},
     "output_type": "execute_result"
    }
   ],
   "source": [
    "X"
   ]
  },
  {
   "cell_type": "code",
   "execution_count": 97,
   "metadata": {},
   "outputs": [
    {
     "data": {
      "text/plain": [
       "0       1\n",
       "1       1\n",
       "2       1\n",
       "3       1\n",
       "4       1\n",
       "5       0\n",
       "6       1\n",
       "7       1\n",
       "8       1\n",
       "9       1\n",
       "10      0\n",
       "11      0\n",
       "12      0\n",
       "13      1\n",
       "14      0\n",
       "15      1\n",
       "16      1\n",
       "17      1\n",
       "18      0\n",
       "19      0\n",
       "20      0\n",
       "21      0\n",
       "22      1\n",
       "23      0\n",
       "24      0\n",
       "25      1\n",
       "26      0\n",
       "27      1\n",
       "28      0\n",
       "29      1\n",
       "       ..\n",
       "3979    0\n",
       "3980    1\n",
       "3981    0\n",
       "3982    0\n",
       "3983    0\n",
       "3984    1\n",
       "3985    1\n",
       "3986    1\n",
       "3987    0\n",
       "3988    1\n",
       "3989    1\n",
       "3990    0\n",
       "3991    0\n",
       "3992    0\n",
       "3993    0\n",
       "3994    0\n",
       "3995    1\n",
       "3996    0\n",
       "3997    0\n",
       "3998    0\n",
       "3999    1\n",
       "4000    0\n",
       "4001    1\n",
       "4002    1\n",
       "4003    0\n",
       "4004    0\n",
       "4005    0\n",
       "4006    0\n",
       "4007    1\n",
       "4008    0\n",
       "Name: Label, Length: 4009, dtype: int64"
      ]
     },
     "execution_count": 97,
     "metadata": {},
     "output_type": "execute_result"
    }
   ],
   "source": [
    "y"
   ]
  },
  {
   "cell_type": "code",
   "execution_count": 98,
   "metadata": {},
   "outputs": [],
   "source": [
    "tfidf_vectorizer = TfidfVectorizer(stop_words='english')\n",
    "tfidf_train = tfidf_vectorizer.fit_transform(X_train)\n",
    "tfidf_test = tfidf_vectorizer.transform(X_test)"
   ]
  },
  {
   "cell_type": "code",
   "execution_count": 99,
   "metadata": {},
   "outputs": [
    {
     "name": "stdout",
     "output_type": "stream",
     "text": [
      "Training feature set size: (3207,)\n",
      "Test feature set size: (802,)\n",
      "Training variable set size: (3207,)\n",
      "Test variable set size: (802,)\n"
     ]
    }
   ],
   "source": [
    "print(\"Training feature set size:\",X_train.shape)\n",
    "print(\"Test feature set size:\",X_test.shape)\n",
    "print(\"Training variable set size:\",y_train.shape)\n",
    "print(\"Test variable set size:\",y_test.shape)"
   ]
  },
  {
   "cell_type": "code",
   "execution_count": 100,
   "metadata": {},
   "outputs": [
    {
     "data": {
      "text/plain": [
       "SVC(C=1.0, cache_size=200, class_weight=None, coef0=0.0,\n",
       "  decision_function_shape='ovr', degree=3, gamma='auto', kernel='linear',\n",
       "  max_iter=-1, probability=False, random_state=None, shrinking=True,\n",
       "  tol=0.001, verbose=False)"
      ]
     },
     "execution_count": 100,
     "metadata": {},
     "output_type": "execute_result"
    }
   ],
   "source": [
    "svm_classifier = svm.SVC(kernel='linear')\n",
    "svm_classifier.fit(tfidf_train, y_train)"
   ]
  },
  {
   "cell_type": "code",
   "execution_count": 101,
   "metadata": {},
   "outputs": [],
   "source": [
    "y_pred = svm_classifier.predict(tfidf_test)\n",
    "accuracy = metrics.accuracy_score(y_test, y_pred)\n",
    "precision = metrics.precision_score(y_test, y_pred)\n",
    "recall = metrics.recall_score(y_test, y_pred)\n",
    "f1_score = metrics.f1_score(y_test, y_pred)"
   ]
  },
  {
   "cell_type": "code",
   "execution_count": 102,
   "metadata": {},
   "outputs": [
    {
     "name": "stdout",
     "output_type": "stream",
     "text": [
      "Confusion Matrix:\n",
      "[[389  66]\n",
      " [ 61 286]]\n"
     ]
    }
   ],
   "source": [
    "confusion_mat = confusion_matrix(y_test, y_pred)\n",
    "print(\"Confusion Matrix:\")\n",
    "print(confusion_mat)"
   ]
  },
  {
   "cell_type": "code",
   "execution_count": 103,
   "metadata": {},
   "outputs": [
    {
     "name": "stdout",
     "output_type": "stream",
     "text": [
      "Accuracy: 0.8416458852867831\n"
     ]
    }
   ],
   "source": [
    "accuracy = accuracy_score(y_test, y_pred)\n",
    "print(\"Accuracy:\", accuracy)"
   ]
  },
  {
   "cell_type": "code",
   "execution_count": 104,
   "metadata": {},
   "outputs": [
    {
     "data": {
      "text/plain": [
       "PassiveAggressiveClassifier(C=1.0, average=False, class_weight=None,\n",
       "              fit_intercept=True, loss='hinge', max_iter=50, n_iter=None,\n",
       "              n_jobs=1, random_state=None, shuffle=True, tol=None,\n",
       "              verbose=0, warm_start=False)"
      ]
     },
     "execution_count": 104,
     "metadata": {},
     "output_type": "execute_result"
    }
   ],
   "source": [
    "tfvect = TfidfVectorizer(stop_words='english',max_df=0.7)\n",
    "tfid_x_train = tfvect.fit_transform(X_train)\n",
    "tfid_x_test = tfvect.transform(X_test)\n",
    "classifier = PassiveAggressiveClassifier(max_iter=50)\n",
    "classifier.fit(tfid_x_train,y_train)"
   ]
  },
  {
   "cell_type": "code",
   "execution_count": 105,
   "metadata": {},
   "outputs": [],
   "source": [
    "def fake_news_data(Headline):\n",
    "    input_data = [Headline]\n",
    "    vectorized_input_data = tfvect.transform(input_data)\n",
    "    prediction = classifier.predict(vectorized_input_data)\n",
    "    print(prediction)"
   ]
  },
  {
   "cell_type": "code",
   "execution_count": 107,
   "metadata": {},
   "outputs": [
    {
     "name": "stdout",
     "output_type": "stream",
     "text": [
      "[0]\n"
     ]
    }
   ],
   "source": [
    "fake_news_data ('9/28 Through the 40s: The Gloaming; HBD Bill, Lou, Cy the Third, Everett, Cy, Leon & Buck; Clarke Honored;Tiny 2-Hitter')"
   ]
  },
  {
   "cell_type": "code",
   "execution_count": 108,
   "metadata": {
    "scrolled": true
   },
   "outputs": [
    {
     "name": "stdout",
     "output_type": "stream",
     "text": [
      "[1]\n"
     ]
    }
   ],
   "source": [
    "fake_news_data('Shanghai Masters: Kyle Edmund beats Jiri Vesely to reach second round')"
   ]
  },
  {
   "cell_type": "code",
   "execution_count": 109,
   "metadata": {
    "scrolled": true
   },
   "outputs": [
    {
     "name": "stdout",
     "output_type": "stream",
     "text": [
      "[0]\n"
     ]
    }
   ],
   "source": [
    "fake_news_data('The ‘Sweet Season’ in Coming Up, But with Good Habits and Careful Monitoring, Teeth Problems can be Avoided, According to Gilroy Dentist')"
   ]
  },
  {
   "cell_type": "markdown",
   "metadata": {},
   "source": [
    "With the import of the head lines we can detect the fake news \n",
    "If the news is fake it gives the output:0\n",
    "If the news id true it gives the output:1\n",
    " As i performed above "
   ]
  }
 ],
 "metadata": {
  "kernelspec": {
   "display_name": "Python 3",
   "language": "python",
   "name": "python3"
  },
  "language_info": {
   "codemirror_mode": {
    "name": "ipython",
    "version": 3
   },
   "file_extension": ".py",
   "mimetype": "text/x-python",
   "name": "python",
   "nbconvert_exporter": "python",
   "pygments_lexer": "ipython3",
   "version": "3.6.5"
  }
 },
 "nbformat": 4,
 "nbformat_minor": 2
}
